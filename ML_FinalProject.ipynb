{
  "cells": [
    {
      "cell_type": "markdown",
      "metadata": {
        "id": "r94AEf3Y2THj"
      },
      "source": [
        "# Project Info\n",
        "\n",
        "Candidate Models:\n",
        "- [XgBoost](https://scikit-learn.org/stable/modules/generated/sklearn.ensemble.GradientBoostingClassifier.html)\n",
        "- [LightGBM](https://lightgbm.readthedocs.io/en/latest/Python-API.html)\n",
        "- [CatBoost](https://catboost.ai/)\n",
        "\n",
        "Criterion: log-loss\n",
        "Remember we are predicting probabilities.\n",
        "\n",
        "Colab from the Business Analytics project:  \n",
        "https://colab.research.google.com/drive/1xr7VrPMDFF9uksnPYwU1CnTB5d5JB-gd\n",
        "\n",
        "General approach\n",
        "- Import libraries\n",
        "- Import data (sample for development)\n",
        "\n",
        "- Function for determining long-tail\n",
        "  - If long-tail, function for encoding column into 80:20 categorical\n",
        "  - If not long-tail, leave as is\n",
        "- Function for replacing value with relative incidence proportion\n",
        "\n",
        "- Split the data into N subsets\n",
        "- Split each of N subsets into N train, validation, test\n",
        "\n",
        "- Fit a model for each subset\n",
        "- Implement \"voting\" for each model ensemble"
      ]
    },
    {
      "cell_type": "code",
      "execution_count": null,
      "metadata": {
        "colab": {
          "base_uri": "https://localhost:8080/"
        },
        "id": "eGgxGCK2wMJR",
        "outputId": "05fd752f-29e9-4f72-c32c-3e0c3a87158b"
      },
      "outputs": [
        {
          "output_type": "stream",
          "name": "stdout",
          "text": [
            "Mounted at /content/drive\n"
          ]
        }
      ],
      "source": [
        "# import libraries\n",
        "import os\n",
        "import random\n",
        "\n",
        "import numpy as np\n",
        "import pandas as pd\n",
        "\n",
        "import sklearn\n",
        "import lightgbm\n",
        "\n",
        "# mount the google drive\n",
        "from google.colab import drive\n",
        "drive.mount('/content/drive')\n",
        "\n",
        "# set random state\n",
        "random_state = 42"
      ]
    },
    {
      "cell_type": "code",
      "execution_count": null,
      "metadata": {
        "id": "7cE3yJHMC0nb",
        "colab": {
          "base_uri": "https://localhost:8080/",
          "height": 244
        },
        "outputId": "7242ddf3-ecf4-47b6-d8ee-bc2851e30ac5"
      },
      "outputs": [
        {
          "output_type": "error",
          "ename": "NameError",
          "evalue": "ignored",
          "traceback": [
            "\u001b[0;31m---------------------------------------------------------------------------\u001b[0m",
            "\u001b[0;31mNameError\u001b[0m                                 Traceback (most recent call last)",
            "\u001b[0;32m<ipython-input-1-f0c95970fc99>\u001b[0m in \u001b[0;36m<module>\u001b[0;34m\u001b[0m\n\u001b[1;32m      2\u001b[0m \u001b[0mp\u001b[0m \u001b[0;34m=\u001b[0m \u001b[0;34m'/content/drive/MyDrive/data'\u001b[0m\u001b[0;34m\u001b[0m\u001b[0;34m\u001b[0m\u001b[0m\n\u001b[1;32m      3\u001b[0m \u001b[0mdata_f\u001b[0m \u001b[0;34m=\u001b[0m \u001b[0;34m\"2022.csv\"\u001b[0m\u001b[0;34m\u001b[0m\u001b[0;34m\u001b[0m\u001b[0m\n\u001b[0;32m----> 4\u001b[0;31m \u001b[0mdata_fp\u001b[0m \u001b[0;34m=\u001b[0m \u001b[0mos\u001b[0m\u001b[0;34m.\u001b[0m\u001b[0mpath\u001b[0m\u001b[0;34m.\u001b[0m\u001b[0mjoin\u001b[0m\u001b[0;34m(\u001b[0m\u001b[0mp\u001b[0m\u001b[0;34m,\u001b[0m \u001b[0mdata_f\u001b[0m\u001b[0;34m)\u001b[0m\u001b[0;34m\u001b[0m\u001b[0;34m\u001b[0m\u001b[0m\n\u001b[0m\u001b[1;32m      5\u001b[0m \u001b[0;34m\u001b[0m\u001b[0m\n\u001b[1;32m      6\u001b[0m \u001b[0mdf\u001b[0m \u001b[0;34m=\u001b[0m \u001b[0mpd\u001b[0m\u001b[0;34m.\u001b[0m\u001b[0mread_csv\u001b[0m\u001b[0;34m(\u001b[0m\u001b[0mdata_fp\u001b[0m\u001b[0;34m)\u001b[0m\u001b[0;34m\u001b[0m\u001b[0;34m\u001b[0m\u001b[0m\n",
            "\u001b[0;31mNameError\u001b[0m: name 'os' is not defined"
          ]
        }
      ],
      "source": [
        "# import sample data\n",
        "p = '/content/drive/MyDrive/data'\n",
        "data_f = \"2022.csv\"\n",
        "data_fp = os.path.join(p, data_f)\n",
        "\n",
        "df = pd.read_csv(data_fp)"
      ]
    },
    {
      "cell_type": "code",
      "source": [
        "from google.colab import drive\n",
        "drive.mount('/content/drive')"
      ],
      "metadata": {
        "id": "sKjEFo-XBwuV"
      },
      "execution_count": null,
      "outputs": []
    },
    {
      "cell_type": "code",
      "execution_count": null,
      "metadata": {
        "colab": {
          "base_uri": "https://localhost:8080/",
          "height": 375
        },
        "id": "rp4MCaI_5cXE",
        "outputId": "bebc85be-01dc-40f7-9313-14b819aaf2dc"
      },
      "outputs": [
        {
          "ename": "KeyboardInterrupt",
          "evalue": "ignored",
          "output_type": "error",
          "traceback": [
            "\u001b[0;31m---------------------------------------------------------------------------\u001b[0m",
            "\u001b[0;31mKeyboardInterrupt\u001b[0m                         Traceback (most recent call last)",
            "\u001b[0;32m<ipython-input-100-9057389a0ff4>\u001b[0m in \u001b[0;36m<module>\u001b[0;34m\u001b[0m\n\u001b[1;32m      5\u001b[0m \u001b[0;34m\u001b[0m\u001b[0m\n\u001b[1;32m      6\u001b[0m \u001b[0msample_size\u001b[0m \u001b[0;34m=\u001b[0m \u001b[0;36m100000\u001b[0m\u001b[0;34m\u001b[0m\u001b[0;34m\u001b[0m\u001b[0m\n\u001b[0;32m----> 7\u001b[0;31m \u001b[0mnum_records\u001b[0m \u001b[0;34m=\u001b[0m \u001b[0msum\u001b[0m\u001b[0;34m(\u001b[0m\u001b[0;36m1\u001b[0m \u001b[0;32mfor\u001b[0m \u001b[0mline\u001b[0m \u001b[0;32min\u001b[0m \u001b[0mopen\u001b[0m\u001b[0;34m(\u001b[0m\u001b[0mdata_fp\u001b[0m\u001b[0;34m)\u001b[0m\u001b[0;34m)\u001b[0m \u001b[0;34m-\u001b[0m \u001b[0;36m1\u001b[0m\u001b[0;34m\u001b[0m\u001b[0;34m\u001b[0m\u001b[0m\n\u001b[0m\u001b[1;32m      8\u001b[0m \u001b[0;34m\u001b[0m\u001b[0m\n\u001b[1;32m      9\u001b[0m \u001b[0mskip\u001b[0m \u001b[0;34m=\u001b[0m \u001b[0msorted\u001b[0m\u001b[0;34m(\u001b[0m\u001b[0mrandom\u001b[0m\u001b[0;34m.\u001b[0m\u001b[0msample\u001b[0m\u001b[0;34m(\u001b[0m\u001b[0mrange\u001b[0m\u001b[0;34m(\u001b[0m\u001b[0;36m1\u001b[0m\u001b[0;34m,\u001b[0m\u001b[0mnum_records\u001b[0m\u001b[0;34m+\u001b[0m\u001b[0;36m1\u001b[0m\u001b[0;34m)\u001b[0m\u001b[0;34m,\u001b[0m\u001b[0mnum_records\u001b[0m\u001b[0;34m-\u001b[0m\u001b[0msample_size\u001b[0m\u001b[0;34m)\u001b[0m\u001b[0;34m)\u001b[0m\u001b[0;34m\u001b[0m\u001b[0;34m\u001b[0m\u001b[0m\n",
            "\u001b[0;32m<ipython-input-100-9057389a0ff4>\u001b[0m in \u001b[0;36m<genexpr>\u001b[0;34m(.0)\u001b[0m\n\u001b[1;32m      5\u001b[0m \u001b[0;34m\u001b[0m\u001b[0m\n\u001b[1;32m      6\u001b[0m \u001b[0msample_size\u001b[0m \u001b[0;34m=\u001b[0m \u001b[0;36m100000\u001b[0m\u001b[0;34m\u001b[0m\u001b[0;34m\u001b[0m\u001b[0m\n\u001b[0;32m----> 7\u001b[0;31m \u001b[0mnum_records\u001b[0m \u001b[0;34m=\u001b[0m \u001b[0msum\u001b[0m\u001b[0;34m(\u001b[0m\u001b[0;36m1\u001b[0m \u001b[0;32mfor\u001b[0m \u001b[0mline\u001b[0m \u001b[0;32min\u001b[0m \u001b[0mopen\u001b[0m\u001b[0;34m(\u001b[0m\u001b[0mdata_fp\u001b[0m\u001b[0;34m)\u001b[0m\u001b[0;34m)\u001b[0m \u001b[0;34m-\u001b[0m \u001b[0;36m1\u001b[0m\u001b[0;34m\u001b[0m\u001b[0;34m\u001b[0m\u001b[0m\n\u001b[0m\u001b[1;32m      8\u001b[0m \u001b[0;34m\u001b[0m\u001b[0m\n\u001b[1;32m      9\u001b[0m \u001b[0mskip\u001b[0m \u001b[0;34m=\u001b[0m \u001b[0msorted\u001b[0m\u001b[0;34m(\u001b[0m\u001b[0mrandom\u001b[0m\u001b[0;34m.\u001b[0m\u001b[0msample\u001b[0m\u001b[0;34m(\u001b[0m\u001b[0mrange\u001b[0m\u001b[0;34m(\u001b[0m\u001b[0;36m1\u001b[0m\u001b[0;34m,\u001b[0m\u001b[0mnum_records\u001b[0m\u001b[0;34m+\u001b[0m\u001b[0;36m1\u001b[0m\u001b[0;34m)\u001b[0m\u001b[0;34m,\u001b[0m\u001b[0mnum_records\u001b[0m\u001b[0;34m-\u001b[0m\u001b[0msample_size\u001b[0m\u001b[0;34m)\u001b[0m\u001b[0;34m)\u001b[0m\u001b[0;34m\u001b[0m\u001b[0;34m\u001b[0m\u001b[0m\n",
            "\u001b[0;31mKeyboardInterrupt\u001b[0m: "
          ]
        }
      ],
      "source": [
        "# # import data and sample the data\n",
        "# p = '/content/drive/MyDrive/team2/machine_learning'\n",
        "# data_f = \"ProjectTrainingData.csv\"\n",
        "# data_fp = os.path.join(p, data_f)\n",
        "\n",
        "# sample_size = 100000\n",
        "# num_records = sum(1 for line in open(data_fp)) - 1 \n",
        "\n",
        "# skip = sorted(random.sample(range(1,num_records+1),num_records-sample_size))\n",
        "# df = pd.read_csv(data_fp, skiprows=skip)"
      ]
    },
    {
      "cell_type": "code",
      "execution_count": null,
      "metadata": {
        "id": "WtZ1XjsiMjr1"
      },
      "outputs": [],
      "source": [
        "# make everything into a string\n",
        "id_click_list = [\"id\", \"click\"]\n",
        "col_name_list = list(set(df.columns) - set(id_click_list))\n",
        "df[col_name_list] = df[col_name_list].astype(str)"
      ]
    },
    {
      "cell_type": "code",
      "execution_count": null,
      "metadata": {
        "colab": {
          "base_uri": "https://localhost:8080/",
          "height": 235
        },
        "id": "fUUFOOUuBT9M",
        "outputId": "aa5e6734-fdeb-42df-8a68-9c5bdc164e44"
      },
      "outputs": [
        {
          "output_type": "execute_result",
          "data": {
            "text/plain": [
              "                     id  click      hour    C1 banner_pos   site_id  \\\n",
              "0  10055435465659353593      0  14102100  1005          0  518d6168   \n",
              "1  10059243968861188634      0  14102100  1005          0  1fbe01fe   \n",
              "2  10109662282079545448      0  14102100  1005          0  85f751fd   \n",
              "3  10177862548969891071      0  14102100  1010          1  85f751fd   \n",
              "4  10261408033730224183      0  14102100  1005          0  85f751fd   \n",
              "\n",
              "  site_domain site_category    app_id app_domain  ... device_type  \\\n",
              "0    92c9e92d      f028772b  ecad2386   7801e8d9  ...           1   \n",
              "1    f3845767      28905ebd  ecad2386   7801e8d9  ...           1   \n",
              "2    c4e18dd6      50e219e0  1779deee   2347f47a  ...           1   \n",
              "3    c4e18dd6      50e219e0  ffc6ffd0   7801e8d9  ...           4   \n",
              "4    c4e18dd6      50e219e0  00848fac   2347f47a  ...           1   \n",
              "\n",
              "  device_conn_type    C14  C15 C16   C17 C18 C19     C20  C21  \n",
              "0                0  18993  320  50  2161   0  35      -1  157  \n",
              "1                0  15701  320  50  1722   0  35      -1   79  \n",
              "2                0  18936  320  50  1926   2  39      -1   13  \n",
              "3                0  21665  320  50  2493   3  35      -1  117  \n",
              "4                3  18993  320  50  2161   0  35  100148  157  \n",
              "\n",
              "[5 rows x 24 columns]"
            ],
            "text/html": [
              "\n",
              "  <div id=\"df-a8e4c587-7eca-472a-9a7d-84d9f7a82106\">\n",
              "    <div class=\"colab-df-container\">\n",
              "      <div>\n",
              "<style scoped>\n",
              "    .dataframe tbody tr th:only-of-type {\n",
              "        vertical-align: middle;\n",
              "    }\n",
              "\n",
              "    .dataframe tbody tr th {\n",
              "        vertical-align: top;\n",
              "    }\n",
              "\n",
              "    .dataframe thead th {\n",
              "        text-align: right;\n",
              "    }\n",
              "</style>\n",
              "<table border=\"1\" class=\"dataframe\">\n",
              "  <thead>\n",
              "    <tr style=\"text-align: right;\">\n",
              "      <th></th>\n",
              "      <th>id</th>\n",
              "      <th>click</th>\n",
              "      <th>hour</th>\n",
              "      <th>C1</th>\n",
              "      <th>banner_pos</th>\n",
              "      <th>site_id</th>\n",
              "      <th>site_domain</th>\n",
              "      <th>site_category</th>\n",
              "      <th>app_id</th>\n",
              "      <th>app_domain</th>\n",
              "      <th>...</th>\n",
              "      <th>device_type</th>\n",
              "      <th>device_conn_type</th>\n",
              "      <th>C14</th>\n",
              "      <th>C15</th>\n",
              "      <th>C16</th>\n",
              "      <th>C17</th>\n",
              "      <th>C18</th>\n",
              "      <th>C19</th>\n",
              "      <th>C20</th>\n",
              "      <th>C21</th>\n",
              "    </tr>\n",
              "  </thead>\n",
              "  <tbody>\n",
              "    <tr>\n",
              "      <th>0</th>\n",
              "      <td>10055435465659353593</td>\n",
              "      <td>0</td>\n",
              "      <td>14102100</td>\n",
              "      <td>1005</td>\n",
              "      <td>0</td>\n",
              "      <td>518d6168</td>\n",
              "      <td>92c9e92d</td>\n",
              "      <td>f028772b</td>\n",
              "      <td>ecad2386</td>\n",
              "      <td>7801e8d9</td>\n",
              "      <td>...</td>\n",
              "      <td>1</td>\n",
              "      <td>0</td>\n",
              "      <td>18993</td>\n",
              "      <td>320</td>\n",
              "      <td>50</td>\n",
              "      <td>2161</td>\n",
              "      <td>0</td>\n",
              "      <td>35</td>\n",
              "      <td>-1</td>\n",
              "      <td>157</td>\n",
              "    </tr>\n",
              "    <tr>\n",
              "      <th>1</th>\n",
              "      <td>10059243968861188634</td>\n",
              "      <td>0</td>\n",
              "      <td>14102100</td>\n",
              "      <td>1005</td>\n",
              "      <td>0</td>\n",
              "      <td>1fbe01fe</td>\n",
              "      <td>f3845767</td>\n",
              "      <td>28905ebd</td>\n",
              "      <td>ecad2386</td>\n",
              "      <td>7801e8d9</td>\n",
              "      <td>...</td>\n",
              "      <td>1</td>\n",
              "      <td>0</td>\n",
              "      <td>15701</td>\n",
              "      <td>320</td>\n",
              "      <td>50</td>\n",
              "      <td>1722</td>\n",
              "      <td>0</td>\n",
              "      <td>35</td>\n",
              "      <td>-1</td>\n",
              "      <td>79</td>\n",
              "    </tr>\n",
              "    <tr>\n",
              "      <th>2</th>\n",
              "      <td>10109662282079545448</td>\n",
              "      <td>0</td>\n",
              "      <td>14102100</td>\n",
              "      <td>1005</td>\n",
              "      <td>0</td>\n",
              "      <td>85f751fd</td>\n",
              "      <td>c4e18dd6</td>\n",
              "      <td>50e219e0</td>\n",
              "      <td>1779deee</td>\n",
              "      <td>2347f47a</td>\n",
              "      <td>...</td>\n",
              "      <td>1</td>\n",
              "      <td>0</td>\n",
              "      <td>18936</td>\n",
              "      <td>320</td>\n",
              "      <td>50</td>\n",
              "      <td>1926</td>\n",
              "      <td>2</td>\n",
              "      <td>39</td>\n",
              "      <td>-1</td>\n",
              "      <td>13</td>\n",
              "    </tr>\n",
              "    <tr>\n",
              "      <th>3</th>\n",
              "      <td>10177862548969891071</td>\n",
              "      <td>0</td>\n",
              "      <td>14102100</td>\n",
              "      <td>1010</td>\n",
              "      <td>1</td>\n",
              "      <td>85f751fd</td>\n",
              "      <td>c4e18dd6</td>\n",
              "      <td>50e219e0</td>\n",
              "      <td>ffc6ffd0</td>\n",
              "      <td>7801e8d9</td>\n",
              "      <td>...</td>\n",
              "      <td>4</td>\n",
              "      <td>0</td>\n",
              "      <td>21665</td>\n",
              "      <td>320</td>\n",
              "      <td>50</td>\n",
              "      <td>2493</td>\n",
              "      <td>3</td>\n",
              "      <td>35</td>\n",
              "      <td>-1</td>\n",
              "      <td>117</td>\n",
              "    </tr>\n",
              "    <tr>\n",
              "      <th>4</th>\n",
              "      <td>10261408033730224183</td>\n",
              "      <td>0</td>\n",
              "      <td>14102100</td>\n",
              "      <td>1005</td>\n",
              "      <td>0</td>\n",
              "      <td>85f751fd</td>\n",
              "      <td>c4e18dd6</td>\n",
              "      <td>50e219e0</td>\n",
              "      <td>00848fac</td>\n",
              "      <td>2347f47a</td>\n",
              "      <td>...</td>\n",
              "      <td>1</td>\n",
              "      <td>3</td>\n",
              "      <td>18993</td>\n",
              "      <td>320</td>\n",
              "      <td>50</td>\n",
              "      <td>2161</td>\n",
              "      <td>0</td>\n",
              "      <td>35</td>\n",
              "      <td>100148</td>\n",
              "      <td>157</td>\n",
              "    </tr>\n",
              "  </tbody>\n",
              "</table>\n",
              "<p>5 rows × 24 columns</p>\n",
              "</div>\n",
              "      <button class=\"colab-df-convert\" onclick=\"convertToInteractive('df-a8e4c587-7eca-472a-9a7d-84d9f7a82106')\"\n",
              "              title=\"Convert this dataframe to an interactive table.\"\n",
              "              style=\"display:none;\">\n",
              "        \n",
              "  <svg xmlns=\"http://www.w3.org/2000/svg\" height=\"24px\"viewBox=\"0 0 24 24\"\n",
              "       width=\"24px\">\n",
              "    <path d=\"M0 0h24v24H0V0z\" fill=\"none\"/>\n",
              "    <path d=\"M18.56 5.44l.94 2.06.94-2.06 2.06-.94-2.06-.94-.94-2.06-.94 2.06-2.06.94zm-11 1L8.5 8.5l.94-2.06 2.06-.94-2.06-.94L8.5 2.5l-.94 2.06-2.06.94zm10 10l.94 2.06.94-2.06 2.06-.94-2.06-.94-.94-2.06-.94 2.06-2.06.94z\"/><path d=\"M17.41 7.96l-1.37-1.37c-.4-.4-.92-.59-1.43-.59-.52 0-1.04.2-1.43.59L10.3 9.45l-7.72 7.72c-.78.78-.78 2.05 0 2.83L4 21.41c.39.39.9.59 1.41.59.51 0 1.02-.2 1.41-.59l7.78-7.78 2.81-2.81c.8-.78.8-2.07 0-2.86zM5.41 20L4 18.59l7.72-7.72 1.47 1.35L5.41 20z\"/>\n",
              "  </svg>\n",
              "      </button>\n",
              "      \n",
              "  <style>\n",
              "    .colab-df-container {\n",
              "      display:flex;\n",
              "      flex-wrap:wrap;\n",
              "      gap: 12px;\n",
              "    }\n",
              "\n",
              "    .colab-df-convert {\n",
              "      background-color: #E8F0FE;\n",
              "      border: none;\n",
              "      border-radius: 50%;\n",
              "      cursor: pointer;\n",
              "      display: none;\n",
              "      fill: #1967D2;\n",
              "      height: 32px;\n",
              "      padding: 0 0 0 0;\n",
              "      width: 32px;\n",
              "    }\n",
              "\n",
              "    .colab-df-convert:hover {\n",
              "      background-color: #E2EBFA;\n",
              "      box-shadow: 0px 1px 2px rgba(60, 64, 67, 0.3), 0px 1px 3px 1px rgba(60, 64, 67, 0.15);\n",
              "      fill: #174EA6;\n",
              "    }\n",
              "\n",
              "    [theme=dark] .colab-df-convert {\n",
              "      background-color: #3B4455;\n",
              "      fill: #D2E3FC;\n",
              "    }\n",
              "\n",
              "    [theme=dark] .colab-df-convert:hover {\n",
              "      background-color: #434B5C;\n",
              "      box-shadow: 0px 1px 3px 1px rgba(0, 0, 0, 0.15);\n",
              "      filter: drop-shadow(0px 1px 2px rgba(0, 0, 0, 0.3));\n",
              "      fill: #FFFFFF;\n",
              "    }\n",
              "  </style>\n",
              "\n",
              "      <script>\n",
              "        const buttonEl =\n",
              "          document.querySelector('#df-a8e4c587-7eca-472a-9a7d-84d9f7a82106 button.colab-df-convert');\n",
              "        buttonEl.style.display =\n",
              "          google.colab.kernel.accessAllowed ? 'block' : 'none';\n",
              "\n",
              "        async function convertToInteractive(key) {\n",
              "          const element = document.querySelector('#df-a8e4c587-7eca-472a-9a7d-84d9f7a82106');\n",
              "          const dataTable =\n",
              "            await google.colab.kernel.invokeFunction('convertToInteractive',\n",
              "                                                     [key], {});\n",
              "          if (!dataTable) return;\n",
              "\n",
              "          const docLinkHtml = 'Like what you see? Visit the ' +\n",
              "            '<a target=\"_blank\" href=https://colab.research.google.com/notebooks/data_table.ipynb>data table notebook</a>'\n",
              "            + ' to learn more about interactive tables.';\n",
              "          element.innerHTML = '';\n",
              "          dataTable['output_type'] = 'display_data';\n",
              "          await google.colab.output.renderOutput(dataTable, element);\n",
              "          const docLink = document.createElement('div');\n",
              "          docLink.innerHTML = docLinkHtml;\n",
              "          element.appendChild(docLink);\n",
              "        }\n",
              "      </script>\n",
              "    </div>\n",
              "  </div>\n",
              "  "
            ]
          },
          "metadata": {},
          "execution_count": 5
        }
      ],
      "source": [
        "# confirm data\n",
        "df.head()"
      ]
    },
    {
      "cell_type": "code",
      "execution_count": null,
      "metadata": {
        "colab": {
          "base_uri": "https://localhost:8080/"
        },
        "id": "BStGQCiW--8T",
        "outputId": "4b947218-ea8b-466e-bde6-0307a344d740"
      },
      "outputs": [
        {
          "output_type": "stream",
          "name": "stdout",
          "text": [
            "<class 'pandas.core.frame.DataFrame'>\n",
            "RangeIndex: 100000 entries, 0 to 99999\n",
            "Data columns (total 24 columns):\n",
            " #   Column            Non-Null Count   Dtype \n",
            "---  ------            --------------   ----- \n",
            " 0   id                100000 non-null  uint64\n",
            " 1   click             100000 non-null  int64 \n",
            " 2   hour              100000 non-null  object\n",
            " 3   C1                100000 non-null  object\n",
            " 4   banner_pos        100000 non-null  object\n",
            " 5   site_id           100000 non-null  object\n",
            " 6   site_domain       100000 non-null  object\n",
            " 7   site_category     100000 non-null  object\n",
            " 8   app_id            100000 non-null  object\n",
            " 9   app_domain        100000 non-null  object\n",
            " 10  app_category      100000 non-null  object\n",
            " 11  device_id         100000 non-null  object\n",
            " 12  device_ip         100000 non-null  object\n",
            " 13  device_model      100000 non-null  object\n",
            " 14  device_type       100000 non-null  object\n",
            " 15  device_conn_type  100000 non-null  object\n",
            " 16  C14               100000 non-null  object\n",
            " 17  C15               100000 non-null  object\n",
            " 18  C16               100000 non-null  object\n",
            " 19  C17               100000 non-null  object\n",
            " 20  C18               100000 non-null  object\n",
            " 21  C19               100000 non-null  object\n",
            " 22  C20               100000 non-null  object\n",
            " 23  C21               100000 non-null  object\n",
            "dtypes: int64(1), object(22), uint64(1)\n",
            "memory usage: 18.3+ MB\n"
          ]
        }
      ],
      "source": [
        "df.info()"
      ]
    },
    {
      "cell_type": "markdown",
      "metadata": {
        "id": "hLc9vHevA6vL"
      },
      "source": [
        "# Data Preparation"
      ]
    },
    {
      "cell_type": "code",
      "execution_count": null,
      "metadata": {
        "colab": {
          "base_uri": "https://localhost:8080/"
        },
        "id": "R_jf243mAIDE",
        "outputId": "07d03051-f43b-4198-8ff5-653f193ebebf"
      },
      "outputs": [
        {
          "output_type": "stream",
          "name": "stdout",
          "text": [
            "id                  100.000\n",
            "click                 0.002\n",
            "hour                  0.216\n",
            "C1                    0.007\n",
            "banner_pos            0.007\n",
            "site_id               1.477\n",
            "site_domain           1.360\n",
            "site_category         0.020\n",
            "app_id                1.306\n",
            "app_domain            0.095\n",
            "app_category          0.020\n",
            "device_id            17.079\n",
            "device_ip            77.322\n",
            "device_model          3.138\n",
            "device_type           0.005\n",
            "device_conn_type      0.004\n",
            "C14                   1.614\n",
            "C15                   0.008\n",
            "C16                   0.009\n",
            "C17                   0.376\n",
            "C18                   0.004\n",
            "C19                   0.062\n",
            "C20                   0.157\n",
            "C21                   0.055\n",
            "dtype: float64\n"
          ]
        },
        {
          "output_type": "execute_result",
          "data": {
            "text/plain": [
              "['id',\n",
              " 'site_id',\n",
              " 'site_domain',\n",
              " 'app_id',\n",
              " 'device_id',\n",
              " 'device_ip',\n",
              " 'device_model',\n",
              " 'C14',\n",
              " 'click']"
            ]
          },
          "metadata": {},
          "execution_count": 7
        }
      ],
      "source": [
        "# check for high cardinality columns\n",
        "# high cardinality = lots of unique values\n",
        "# low cardinality = not a lot of unique values\n",
        "# we will start with 10% as our cutoff value\n",
        "nunique_series = df.nunique() / len(df) * 100\n",
        "print(nunique_series)\n",
        "\n",
        "exclude_list = list(nunique_series[nunique_series > 1].index)\n",
        "exclude_list.append(\"click\")\n",
        "exclude_list"
      ]
    },
    {
      "cell_type": "code",
      "execution_count": null,
      "metadata": {
        "colab": {
          "base_uri": "https://localhost:8080/"
        },
        "id": "3MP_2I0O_P71",
        "outputId": "a0c2225c-6807-4266-ccbe-080b9b6cc6db"
      },
      "outputs": [
        {
          "output_type": "execute_result",
          "data": {
            "text/plain": [
              "35            0.31377\n",
              "39            0.22449\n",
              "tail_value    0.16590\n",
              "167           0.08069\n",
              "161           0.04311\n",
              "47            0.02814\n",
              "1327          0.02720\n",
              "297           0.02648\n",
              "163           0.02119\n",
              "679           0.02071\n",
              "175           0.01836\n",
              "935           0.01569\n",
              "687           0.01427\n",
              "Name: C19, dtype: float64"
            ]
          },
          "metadata": {},
          "execution_count": 8
        }
      ],
      "source": [
        "# function for correcting long-tail\n",
        "def correct_long_tail(df, col_name, cutoff=.20):\n",
        "  \"\"\" This function corrects a long-tail categorical distrubtion\n",
        "      \n",
        "      Input:\n",
        "        df: dataframe\n",
        "        col_name: str of column name \n",
        "\n",
        "      Output:\n",
        "        col: series of column values\n",
        "  \"\"\"\n",
        "  long_tail_flag = False\n",
        "\n",
        "  unique_value_cnt = len(df[col_name].unique())\n",
        "\n",
        "  value_by_cnt_df = pd.DataFrame(df[col_name].value_counts(normalize = True))\n",
        "\n",
        "  c_value_perc = 0\n",
        "  c_distinct_perc = 0\n",
        "  replace_list = []\n",
        "  for index, row in value_by_cnt_df.iterrows():\n",
        "    c_distinct_perc += 1/unique_value_cnt\n",
        "    c_value_perc += row[col_name]\n",
        "    \n",
        "    # If we have seen 20% of distinct values and have 80% of total values\n",
        "    if (c_distinct_perc > cutoff) and (c_value_perc > 1 - cutoff):\n",
        "      replace_list.append(index)\n",
        "\n",
        "    # print(f\"{c_distinct_perc} | {c_value_perc}\")\n",
        "\n",
        "  replace_df = df.copy()\n",
        "\n",
        "  col = replace_df[col_name].apply(lambda x: \"tail_value\" if x in replace_list else x)\n",
        "\n",
        "  return col\n",
        "\n",
        "c = correct_long_tail(df, \"C19\")\n",
        "c.value_counts(normalize = True)"
      ]
    },
    {
      "cell_type": "code",
      "execution_count": null,
      "metadata": {
        "colab": {
          "base_uri": "https://localhost:8080/"
        },
        "id": "pJgME_jsLNQv",
        "outputId": "6fe04ec7-717b-4014-bf17-414edbc27b84"
      },
      "outputs": [
        {
          "output_type": "stream",
          "name": "stdout",
          "text": [
            "['C20', 'C16', 'app_domain', 'C18', 'device_type', 'C19', 'C1', 'app_category', 'device_conn_type', 'site_category', 'banner_pos', 'C15', 'hour', 'C21', 'C17']\n",
            "C20\n",
            "C16\n",
            "app_domain\n",
            "C18\n",
            "device_type\n",
            "C19\n",
            "C1\n",
            "app_category\n",
            "device_conn_type\n",
            "site_category\n",
            "banner_pos\n",
            "C15\n",
            "hour\n",
            "C21\n",
            "C17\n"
          ]
        }
      ],
      "source": [
        "col_name_list = list(set(df.columns) - set(exclude_list))\n",
        "print(col_name_list)\n",
        "\n",
        "for col_name in col_name_list:\n",
        "  print(col_name)\n",
        "  df[col_name] = correct_long_tail(df, col_name)"
      ]
    },
    {
      "cell_type": "code",
      "execution_count": null,
      "metadata": {
        "colab": {
          "base_uri": "https://localhost:8080/"
        },
        "id": "2TdqeqCg_P-W",
        "outputId": "ca6cb48a-d553-446d-cd93-a966abd0cf92"
      },
      "outputs": [
        {
          "output_type": "stream",
          "name": "stdout",
          "text": [
            "Looking in indexes: https://pypi.org/simple, https://us-python.pkg.dev/colab-wheels/public/simple/\n",
            "Collecting category_encoders\n",
            "  Downloading category_encoders-2.5.1.post0-py2.py3-none-any.whl (72 kB)\n",
            "\u001b[K     |████████████████████████████████| 72 kB 765 kB/s \n",
            "\u001b[?25hRequirement already satisfied: scipy>=1.0.0 in /usr/local/lib/python3.8/dist-packages (from category_encoders) (1.7.3)\n",
            "Requirement already satisfied: numpy>=1.14.0 in /usr/local/lib/python3.8/dist-packages (from category_encoders) (1.21.6)\n",
            "Requirement already satisfied: scikit-learn>=0.20.0 in /usr/local/lib/python3.8/dist-packages (from category_encoders) (1.0.2)\n",
            "Requirement already satisfied: pandas>=1.0.5 in /usr/local/lib/python3.8/dist-packages (from category_encoders) (1.3.5)\n",
            "Requirement already satisfied: patsy>=0.5.1 in /usr/local/lib/python3.8/dist-packages (from category_encoders) (0.5.3)\n",
            "Requirement already satisfied: statsmodels>=0.9.0 in /usr/local/lib/python3.8/dist-packages (from category_encoders) (0.12.2)\n",
            "Requirement already satisfied: pytz>=2017.3 in /usr/local/lib/python3.8/dist-packages (from pandas>=1.0.5->category_encoders) (2022.6)\n",
            "Requirement already satisfied: python-dateutil>=2.7.3 in /usr/local/lib/python3.8/dist-packages (from pandas>=1.0.5->category_encoders) (2.8.2)\n",
            "Requirement already satisfied: six in /usr/local/lib/python3.8/dist-packages (from patsy>=0.5.1->category_encoders) (1.15.0)\n",
            "Requirement already satisfied: joblib>=0.11 in /usr/local/lib/python3.8/dist-packages (from scikit-learn>=0.20.0->category_encoders) (1.2.0)\n",
            "Requirement already satisfied: threadpoolctl>=2.0.0 in /usr/local/lib/python3.8/dist-packages (from scikit-learn>=0.20.0->category_encoders) (3.1.0)\n",
            "Installing collected packages: category-encoders\n",
            "Successfully installed category-encoders-2.5.1.post0\n"
          ]
        }
      ],
      "source": [
        "!pip install category_encoders\n",
        "import category_encoders"
      ]
    },
    {
      "cell_type": "code",
      "execution_count": null,
      "metadata": {
        "id": "Ip5jleNEVYqj"
      },
      "outputs": [],
      "source": [
        "woe_enc = category_encoders.WOEEncoder(col_name_list)\n",
        "woe_fit = woe_enc.fit(df[col_name_list], df['click'])\n",
        "woe_df = woe_fit.transform(df[col_name_list])"
      ]
    },
    {
      "cell_type": "code",
      "execution_count": null,
      "metadata": {
        "id": "IRWJzwW4blHl"
      },
      "outputs": [],
      "source": [
        "woe_df = pd.concat([woe_df, df['click']], axis=1)\n",
        "\n",
        "woe_df = woe_df.sample(frac=1, random_state=42).reset_index(drop=True)\n",
        "\n",
        "woe_df = woe_df.astype(float)"
      ]
    },
    {
      "cell_type": "code",
      "source": [
        "l = [x / 10 for x in list(range(1, 10, 5))]\n",
        "l"
      ],
      "metadata": {
        "colab": {
          "base_uri": "https://localhost:8080/"
        },
        "id": "ubhn9-jCBL14",
        "outputId": "6657b827-0570-4b6d-9345-36fdcf9ea48c"
      },
      "execution_count": null,
      "outputs": [
        {
          "output_type": "execute_result",
          "data": {
            "text/plain": [
              "[0.1, 0.6]"
            ]
          },
          "metadata": {},
          "execution_count": 26
        }
      ]
    },
    {
      "cell_type": "code",
      "execution_count": null,
      "metadata": {
        "colab": {
          "base_uri": "https://localhost:8080/",
          "height": 206
        },
        "id": "t4XQAJbjalRH",
        "outputId": "72e9e1c2-80c1-48f9-86de-5e4662fa3766"
      },
      "outputs": [
        {
          "output_type": "execute_result",
          "data": {
            "text/plain": [
              "        C20       C16  app_domain       C18  device_type       C19        C1  \\\n",
              "0  0.162266 -0.084064    0.154317 -0.090790    -0.001799 -0.034660 -0.000359   \n",
              "1  0.162266 -0.084064    0.154317 -0.090790    -0.001799 -0.034660 -0.000359   \n",
              "2  0.162266 -0.084064   -0.277088 -0.090790    -0.001799 -0.034660 -0.000359   \n",
              "3  0.018280 -0.084064    0.154317 -0.090790     0.020509 -0.034660  0.003881   \n",
              "4  0.162266 -0.084064    0.154317  0.309664    -0.001799 -0.119495 -0.000359   \n",
              "\n",
              "   app_category  device_conn_type  site_category  banner_pos       C15  \\\n",
              "0      0.180697         -0.000047       0.254595   -0.036027 -0.081666   \n",
              "1      0.180697         -0.000047       0.254595   -0.036027 -0.081666   \n",
              "2     -0.466584         -0.000047      -0.317639   -0.036027 -0.081666   \n",
              "3      0.180697         -0.000047      -0.317639   -0.036027 -0.081666   \n",
              "4      0.180697         -0.000047       0.040748    0.086702 -0.081666   \n",
              "\n",
              "       hour       C21       C17  click  \n",
              "0 -0.285839 -0.232263 -0.002390    0.0  \n",
              "1 -0.180571 -0.024678 -0.744674    0.0  \n",
              "2 -0.125753 -0.436111 -0.550250    0.0  \n",
              "3  0.242685 -0.024678  0.257320    1.0  \n",
              "4 -0.085751  1.199837  0.993235    0.0  "
            ],
            "text/html": [
              "\n",
              "  <div id=\"df-02bf2b65-92dc-4a4f-a94f-5c9ae06e8da3\">\n",
              "    <div class=\"colab-df-container\">\n",
              "      <div>\n",
              "<style scoped>\n",
              "    .dataframe tbody tr th:only-of-type {\n",
              "        vertical-align: middle;\n",
              "    }\n",
              "\n",
              "    .dataframe tbody tr th {\n",
              "        vertical-align: top;\n",
              "    }\n",
              "\n",
              "    .dataframe thead th {\n",
              "        text-align: right;\n",
              "    }\n",
              "</style>\n",
              "<table border=\"1\" class=\"dataframe\">\n",
              "  <thead>\n",
              "    <tr style=\"text-align: right;\">\n",
              "      <th></th>\n",
              "      <th>C20</th>\n",
              "      <th>C16</th>\n",
              "      <th>app_domain</th>\n",
              "      <th>C18</th>\n",
              "      <th>device_type</th>\n",
              "      <th>C19</th>\n",
              "      <th>C1</th>\n",
              "      <th>app_category</th>\n",
              "      <th>device_conn_type</th>\n",
              "      <th>site_category</th>\n",
              "      <th>banner_pos</th>\n",
              "      <th>C15</th>\n",
              "      <th>hour</th>\n",
              "      <th>C21</th>\n",
              "      <th>C17</th>\n",
              "      <th>click</th>\n",
              "    </tr>\n",
              "  </thead>\n",
              "  <tbody>\n",
              "    <tr>\n",
              "      <th>0</th>\n",
              "      <td>0.162266</td>\n",
              "      <td>-0.084064</td>\n",
              "      <td>0.154317</td>\n",
              "      <td>-0.090790</td>\n",
              "      <td>-0.001799</td>\n",
              "      <td>-0.034660</td>\n",
              "      <td>-0.000359</td>\n",
              "      <td>0.180697</td>\n",
              "      <td>-0.000047</td>\n",
              "      <td>0.254595</td>\n",
              "      <td>-0.036027</td>\n",
              "      <td>-0.081666</td>\n",
              "      <td>-0.285839</td>\n",
              "      <td>-0.232263</td>\n",
              "      <td>-0.002390</td>\n",
              "      <td>0.0</td>\n",
              "    </tr>\n",
              "    <tr>\n",
              "      <th>1</th>\n",
              "      <td>0.162266</td>\n",
              "      <td>-0.084064</td>\n",
              "      <td>0.154317</td>\n",
              "      <td>-0.090790</td>\n",
              "      <td>-0.001799</td>\n",
              "      <td>-0.034660</td>\n",
              "      <td>-0.000359</td>\n",
              "      <td>0.180697</td>\n",
              "      <td>-0.000047</td>\n",
              "      <td>0.254595</td>\n",
              "      <td>-0.036027</td>\n",
              "      <td>-0.081666</td>\n",
              "      <td>-0.180571</td>\n",
              "      <td>-0.024678</td>\n",
              "      <td>-0.744674</td>\n",
              "      <td>0.0</td>\n",
              "    </tr>\n",
              "    <tr>\n",
              "      <th>2</th>\n",
              "      <td>0.162266</td>\n",
              "      <td>-0.084064</td>\n",
              "      <td>-0.277088</td>\n",
              "      <td>-0.090790</td>\n",
              "      <td>-0.001799</td>\n",
              "      <td>-0.034660</td>\n",
              "      <td>-0.000359</td>\n",
              "      <td>-0.466584</td>\n",
              "      <td>-0.000047</td>\n",
              "      <td>-0.317639</td>\n",
              "      <td>-0.036027</td>\n",
              "      <td>-0.081666</td>\n",
              "      <td>-0.125753</td>\n",
              "      <td>-0.436111</td>\n",
              "      <td>-0.550250</td>\n",
              "      <td>0.0</td>\n",
              "    </tr>\n",
              "    <tr>\n",
              "      <th>3</th>\n",
              "      <td>0.018280</td>\n",
              "      <td>-0.084064</td>\n",
              "      <td>0.154317</td>\n",
              "      <td>-0.090790</td>\n",
              "      <td>0.020509</td>\n",
              "      <td>-0.034660</td>\n",
              "      <td>0.003881</td>\n",
              "      <td>0.180697</td>\n",
              "      <td>-0.000047</td>\n",
              "      <td>-0.317639</td>\n",
              "      <td>-0.036027</td>\n",
              "      <td>-0.081666</td>\n",
              "      <td>0.242685</td>\n",
              "      <td>-0.024678</td>\n",
              "      <td>0.257320</td>\n",
              "      <td>1.0</td>\n",
              "    </tr>\n",
              "    <tr>\n",
              "      <th>4</th>\n",
              "      <td>0.162266</td>\n",
              "      <td>-0.084064</td>\n",
              "      <td>0.154317</td>\n",
              "      <td>0.309664</td>\n",
              "      <td>-0.001799</td>\n",
              "      <td>-0.119495</td>\n",
              "      <td>-0.000359</td>\n",
              "      <td>0.180697</td>\n",
              "      <td>-0.000047</td>\n",
              "      <td>0.040748</td>\n",
              "      <td>0.086702</td>\n",
              "      <td>-0.081666</td>\n",
              "      <td>-0.085751</td>\n",
              "      <td>1.199837</td>\n",
              "      <td>0.993235</td>\n",
              "      <td>0.0</td>\n",
              "    </tr>\n",
              "  </tbody>\n",
              "</table>\n",
              "</div>\n",
              "      <button class=\"colab-df-convert\" onclick=\"convertToInteractive('df-02bf2b65-92dc-4a4f-a94f-5c9ae06e8da3')\"\n",
              "              title=\"Convert this dataframe to an interactive table.\"\n",
              "              style=\"display:none;\">\n",
              "        \n",
              "  <svg xmlns=\"http://www.w3.org/2000/svg\" height=\"24px\"viewBox=\"0 0 24 24\"\n",
              "       width=\"24px\">\n",
              "    <path d=\"M0 0h24v24H0V0z\" fill=\"none\"/>\n",
              "    <path d=\"M18.56 5.44l.94 2.06.94-2.06 2.06-.94-2.06-.94-.94-2.06-.94 2.06-2.06.94zm-11 1L8.5 8.5l.94-2.06 2.06-.94-2.06-.94L8.5 2.5l-.94 2.06-2.06.94zm10 10l.94 2.06.94-2.06 2.06-.94-2.06-.94-.94-2.06-.94 2.06-2.06.94z\"/><path d=\"M17.41 7.96l-1.37-1.37c-.4-.4-.92-.59-1.43-.59-.52 0-1.04.2-1.43.59L10.3 9.45l-7.72 7.72c-.78.78-.78 2.05 0 2.83L4 21.41c.39.39.9.59 1.41.59.51 0 1.02-.2 1.41-.59l7.78-7.78 2.81-2.81c.8-.78.8-2.07 0-2.86zM5.41 20L4 18.59l7.72-7.72 1.47 1.35L5.41 20z\"/>\n",
              "  </svg>\n",
              "      </button>\n",
              "      \n",
              "  <style>\n",
              "    .colab-df-container {\n",
              "      display:flex;\n",
              "      flex-wrap:wrap;\n",
              "      gap: 12px;\n",
              "    }\n",
              "\n",
              "    .colab-df-convert {\n",
              "      background-color: #E8F0FE;\n",
              "      border: none;\n",
              "      border-radius: 50%;\n",
              "      cursor: pointer;\n",
              "      display: none;\n",
              "      fill: #1967D2;\n",
              "      height: 32px;\n",
              "      padding: 0 0 0 0;\n",
              "      width: 32px;\n",
              "    }\n",
              "\n",
              "    .colab-df-convert:hover {\n",
              "      background-color: #E2EBFA;\n",
              "      box-shadow: 0px 1px 2px rgba(60, 64, 67, 0.3), 0px 1px 3px 1px rgba(60, 64, 67, 0.15);\n",
              "      fill: #174EA6;\n",
              "    }\n",
              "\n",
              "    [theme=dark] .colab-df-convert {\n",
              "      background-color: #3B4455;\n",
              "      fill: #D2E3FC;\n",
              "    }\n",
              "\n",
              "    [theme=dark] .colab-df-convert:hover {\n",
              "      background-color: #434B5C;\n",
              "      box-shadow: 0px 1px 3px 1px rgba(0, 0, 0, 0.15);\n",
              "      filter: drop-shadow(0px 1px 2px rgba(0, 0, 0, 0.3));\n",
              "      fill: #FFFFFF;\n",
              "    }\n",
              "  </style>\n",
              "\n",
              "      <script>\n",
              "        const buttonEl =\n",
              "          document.querySelector('#df-02bf2b65-92dc-4a4f-a94f-5c9ae06e8da3 button.colab-df-convert');\n",
              "        buttonEl.style.display =\n",
              "          google.colab.kernel.accessAllowed ? 'block' : 'none';\n",
              "\n",
              "        async function convertToInteractive(key) {\n",
              "          const element = document.querySelector('#df-02bf2b65-92dc-4a4f-a94f-5c9ae06e8da3');\n",
              "          const dataTable =\n",
              "            await google.colab.kernel.invokeFunction('convertToInteractive',\n",
              "                                                     [key], {});\n",
              "          if (!dataTable) return;\n",
              "\n",
              "          const docLinkHtml = 'Like what you see? Visit the ' +\n",
              "            '<a target=\"_blank\" href=https://colab.research.google.com/notebooks/data_table.ipynb>data table notebook</a>'\n",
              "            + ' to learn more about interactive tables.';\n",
              "          element.innerHTML = '';\n",
              "          dataTable['output_type'] = 'display_data';\n",
              "          await google.colab.output.renderOutput(dataTable, element);\n",
              "          const docLink = document.createElement('div');\n",
              "          docLink.innerHTML = docLinkHtml;\n",
              "          element.appendChild(docLink);\n",
              "        }\n",
              "      </script>\n",
              "    </div>\n",
              "  </div>\n",
              "  "
            ]
          },
          "metadata": {},
          "execution_count": 13
        }
      ],
      "source": [
        "woe_df.head()"
      ]
    },
    {
      "cell_type": "code",
      "execution_count": null,
      "metadata": {
        "colab": {
          "base_uri": "https://localhost:8080/"
        },
        "id": "vvslQLuMaxqy",
        "outputId": "889e9c76-b439-4e2f-b37e-9c56d3a10ae1"
      },
      "outputs": [
        {
          "output_type": "stream",
          "name": "stdout",
          "text": [
            "<class 'pandas.core.frame.DataFrame'>\n",
            "RangeIndex: 100000 entries, 0 to 99999\n",
            "Data columns (total 16 columns):\n",
            " #   Column            Non-Null Count   Dtype  \n",
            "---  ------            --------------   -----  \n",
            " 0   C20               100000 non-null  float64\n",
            " 1   C16               100000 non-null  float64\n",
            " 2   app_domain        100000 non-null  float64\n",
            " 3   C18               100000 non-null  float64\n",
            " 4   device_type       100000 non-null  float64\n",
            " 5   C19               100000 non-null  float64\n",
            " 6   C1                100000 non-null  float64\n",
            " 7   app_category      100000 non-null  float64\n",
            " 8   device_conn_type  100000 non-null  float64\n",
            " 9   site_category     100000 non-null  float64\n",
            " 10  banner_pos        100000 non-null  float64\n",
            " 11  C15               100000 non-null  float64\n",
            " 12  hour              100000 non-null  float64\n",
            " 13  C21               100000 non-null  float64\n",
            " 14  C17               100000 non-null  float64\n",
            " 15  click             100000 non-null  float64\n",
            "dtypes: float64(16)\n",
            "memory usage: 12.2 MB\n"
          ]
        }
      ],
      "source": [
        "woe_df.info()"
      ]
    },
    {
      "cell_type": "markdown",
      "metadata": {
        "id": "0z1VneeqA61g"
      },
      "source": [
        "## Modeling"
      ]
    },
    {
      "cell_type": "code",
      "execution_count": null,
      "metadata": {
        "id": "amA90mk0-2gz"
      },
      "outputs": [],
      "source": [
        "train_perc = .6\n",
        "val_perc = .2"
      ]
    },
    {
      "cell_type": "code",
      "execution_count": null,
      "metadata": {
        "id": "DfaRr6OAf2_i"
      },
      "outputs": [],
      "source": [
        "from re import X\n",
        "train_df, val_df, test_df = np.split(woe_df, \n",
        "                                  [int(train_perc*len(woe_df)),\n",
        "                                    int((train_perc + val_perc)*len(woe_df))])\n",
        "\n",
        "train_X = train_df.drop([\"click\"], axis=1)\n",
        "train_y = train_df[\"click\"]\n",
        "\n",
        "val_X = val_df.drop([\"click\"], axis=1)\n",
        "val_y = val_df[\"click\"]\n",
        "\n",
        "test_X = test_df.drop([\"click\"], axis=1)\n",
        "test_y = test_df[\"click\"]"
      ]
    },
    {
      "cell_type": "code",
      "execution_count": null,
      "metadata": {
        "id": "Z8TP5tZvgXHq"
      },
      "outputs": [],
      "source": [
        "from sklearn.model_selection import GridSearchCV\n",
        "from sklearn.metrics import log_loss, make_scorer\n",
        "from sklearn.metrics import accuracy_score, roc_auc_score"
      ]
    },
    {
      "cell_type": "code",
      "execution_count": null,
      "metadata": {
        "colab": {
          "base_uri": "https://localhost:8080/"
        },
        "id": "SQaun-_xo8_X",
        "outputId": "41127cee-bf01-4346-84e4-83d4ec550d96"
      },
      "outputs": [
        {
          "output_type": "stream",
          "name": "stdout",
          "text": [
            "Fitting 5 folds for each of 108 candidates, totalling 540 fits\n",
            "{'learning_rate': 0.05, 'max_depth': 8, 'n_estimators': 120}\n"
          ]
        }
      ],
      "source": [
        "est = lightgbm.LGBMClassifier(\n",
        "    objective= 'binary',\n",
        "    nthread=4,\n",
        "    seed=random_state\n",
        ")\n",
        "\n",
        "parameters = {\n",
        "    'max_depth': range (2, 10, 2),\n",
        "    'n_estimators': range(60, 240, 20),\n",
        "    'learning_rate': [0.1, 0.01, 0.05]\n",
        "}\n",
        "\n",
        "LogLoss = make_scorer(log_loss, greater_is_better=False, needs_proba=True)\n",
        "\n",
        "clf = GridSearchCV(\n",
        "    estimator=est,\n",
        "    param_grid=parameters,\n",
        "    scoring = LogLoss,\n",
        "    n_jobs = -1,\n",
        "    cv = 5,\n",
        "    verbose=True\n",
        ")\n",
        "\n",
        "clf.fit(train_X,\n",
        "        train_y,\n",
        "        verbose=True)\n",
        "\n",
        "print(clf.best_params_)"
      ]
    },
    {
      "cell_type": "code",
      "execution_count": null,
      "metadata": {
        "colab": {
          "base_uri": "https://localhost:8080/"
        },
        "id": "iAVJJVyDrdFN",
        "outputId": "97f4c432-7406-44cf-9e14-483109c89177"
      },
      "outputs": [
        {
          "name": "stdout",
          "output_type": "stream",
          "text": [
            "Accuracy: 83.41%\n",
            "ROC_AUC: 52.55%\n"
          ]
        }
      ],
      "source": [
        "xgb_c = xgboost.XGBClassifier(\n",
        "    objective= 'binary:logistic',\n",
        "    nthread=4,\n",
        "    seed=random_state,\n",
        "    max_depth=xgb_clf.best_params_.get(\"max_depth\"),\n",
        "    learning_rate=xgb_clf.best_params_.get(\"learning_rate\"),\n",
        "    n_estimators=xgb_clf.best_params_.get(\"n_estimators\")\n",
        ")\n",
        "\n",
        "xgb_c.fit(train_X, train_y)\n",
        "\n",
        "y_pred = xgb_c.predict(val_X)\n",
        "\n",
        "accuracy = accuracy_score(val_y, y_pred)\n",
        "print(\"Accuracy: %.2f%%\" % (accuracy * 100.0))\n",
        "\n",
        "roc_auc = roc_auc_score(val_y, y_pred)\n",
        "print(\"ROC_AUC: %.2f%%\" % (roc_auc * 100.0))"
      ]
    },
    {
      "cell_type": "code",
      "execution_count": null,
      "metadata": {
        "colab": {
          "base_uri": "https://localhost:8080/"
        },
        "id": "12toLqcmcSUa",
        "outputId": "440e86a2-fcd6-4434-f284-ac9d6a6f1d86"
      },
      "outputs": [
        {
          "name": "stdout",
          "output_type": "stream",
          "text": [
            "6000\n",
            "2000\n",
            "2000\n"
          ]
        }
      ],
      "source": [
        "num_splits = 10\n",
        "train_df_list = np.array_split(train_df, num_splits)\n",
        "val_df_list = np.array_split(val_df, num_splits)\n",
        "test_df_list = []\n"
      ]
    },
    {
      "cell_type": "code",
      "execution_count": null,
      "metadata": {
        "id": "FxRjPwxg_PLc"
      },
      "outputs": [],
      "source": [
        "# train test split\n",
        "train_df, val_df, test_df = np.split(df, \n",
        "                                    [int(df.head()*len(df)),\n",
        "                                      int((train_perc + val_perc)*len(df))])"
      ]
    },
    {
      "cell_type": "code",
      "execution_count": null,
      "metadata": {
        "colab": {
          "base_uri": "https://localhost:8080/"
        },
        "id": "PrZRE2Fc8AyW",
        "outputId": "de1bace5-f2fa-4b64-b33c-ba33b9c88a4a"
      },
      "outputs": [
        {
          "data": {
            "text/plain": [
              "0        157\n",
              "1         79\n",
              "2         13\n",
              "3        117\n",
              "4        157\n",
              "        ... \n",
              "59995     48\n",
              "59996     42\n",
              "59997     23\n",
              "59998    182\n",
              "59999     79\n",
              "Name: C21, Length: 60000, dtype: int64"
            ]
          },
          "execution_count": 31,
          "metadata": {},
          "output_type": "execute_result"
        }
      ],
      "source": [
        "# confirm train\n",
        "train_df.head()\n",
        "train_df_y=train_df.iloc[:,-1]\n",
        "df.drop(df.columns[i], axis=1)"
      ]
    },
    {
      "cell_type": "code",
      "execution_count": null,
      "metadata": {
        "colab": {
          "base_uri": "https://localhost:8080/",
          "height": 299
        },
        "id": "F4W4R8Vr8A05",
        "outputId": "07f5669a-34e5-4a78-c5ee-09344a8979a6"
      },
      "outputs": [
        {
          "data": {
            "text/html": [
              "\n",
              "  <div id=\"df-30a7da1d-a0b6-4da9-9d53-b6c31b4c9df8\">\n",
              "    <div class=\"colab-df-container\">\n",
              "      <div>\n",
              "<style scoped>\n",
              "    .dataframe tbody tr th:only-of-type {\n",
              "        vertical-align: middle;\n",
              "    }\n",
              "\n",
              "    .dataframe tbody tr th {\n",
              "        vertical-align: top;\n",
              "    }\n",
              "\n",
              "    .dataframe thead th {\n",
              "        text-align: right;\n",
              "    }\n",
              "</style>\n",
              "<table border=\"1\" class=\"dataframe\">\n",
              "  <thead>\n",
              "    <tr style=\"text-align: right;\">\n",
              "      <th></th>\n",
              "      <th>id</th>\n",
              "      <th>click</th>\n",
              "      <th>hour</th>\n",
              "      <th>C1</th>\n",
              "      <th>banner_pos</th>\n",
              "      <th>site_id</th>\n",
              "      <th>site_domain</th>\n",
              "      <th>site_category</th>\n",
              "      <th>app_id</th>\n",
              "      <th>app_domain</th>\n",
              "      <th>...</th>\n",
              "      <th>device_type</th>\n",
              "      <th>device_conn_type</th>\n",
              "      <th>C14</th>\n",
              "      <th>C15</th>\n",
              "      <th>C16</th>\n",
              "      <th>C17</th>\n",
              "      <th>C18</th>\n",
              "      <th>C19</th>\n",
              "      <th>C20</th>\n",
              "      <th>C21</th>\n",
              "    </tr>\n",
              "  </thead>\n",
              "  <tbody>\n",
              "    <tr>\n",
              "      <th>60000</th>\n",
              "      <td>15769367607334356398</td>\n",
              "      <td>0</td>\n",
              "      <td>14102610</td>\n",
              "      <td>1005</td>\n",
              "      <td>0</td>\n",
              "      <td>1fbe01fe</td>\n",
              "      <td>f3845767</td>\n",
              "      <td>28905ebd</td>\n",
              "      <td>ecad2386</td>\n",
              "      <td>7801e8d9</td>\n",
              "      <td>...</td>\n",
              "      <td>1</td>\n",
              "      <td>0</td>\n",
              "      <td>20108</td>\n",
              "      <td>320</td>\n",
              "      <td>50</td>\n",
              "      <td>2299</td>\n",
              "      <td>2</td>\n",
              "      <td>1327</td>\n",
              "      <td>100084</td>\n",
              "      <td>52</td>\n",
              "    </tr>\n",
              "    <tr>\n",
              "      <th>60001</th>\n",
              "      <td>15772716576874331805</td>\n",
              "      <td>0</td>\n",
              "      <td>14102610</td>\n",
              "      <td>1005</td>\n",
              "      <td>1</td>\n",
              "      <td>92c7cbe7</td>\n",
              "      <td>6e882918</td>\n",
              "      <td>75fa27f6</td>\n",
              "      <td>ecad2386</td>\n",
              "      <td>7801e8d9</td>\n",
              "      <td>...</td>\n",
              "      <td>1</td>\n",
              "      <td>0</td>\n",
              "      <td>21683</td>\n",
              "      <td>320</td>\n",
              "      <td>50</td>\n",
              "      <td>2496</td>\n",
              "      <td>3</td>\n",
              "      <td>167</td>\n",
              "      <td>-1</td>\n",
              "      <td>23</td>\n",
              "    </tr>\n",
              "    <tr>\n",
              "      <th>60002</th>\n",
              "      <td>15780481116374295046</td>\n",
              "      <td>0</td>\n",
              "      <td>14102610</td>\n",
              "      <td>1002</td>\n",
              "      <td>0</td>\n",
              "      <td>ffcb6b9a</td>\n",
              "      <td>fd0f18e8</td>\n",
              "      <td>50e219e0</td>\n",
              "      <td>ecad2386</td>\n",
              "      <td>7801e8d9</td>\n",
              "      <td>...</td>\n",
              "      <td>0</td>\n",
              "      <td>0</td>\n",
              "      <td>5299</td>\n",
              "      <td>320</td>\n",
              "      <td>50</td>\n",
              "      <td>479</td>\n",
              "      <td>3</td>\n",
              "      <td>39</td>\n",
              "      <td>100077</td>\n",
              "      <td>23</td>\n",
              "    </tr>\n",
              "    <tr>\n",
              "      <th>60003</th>\n",
              "      <td>15782393117659104918</td>\n",
              "      <td>0</td>\n",
              "      <td>14102610</td>\n",
              "      <td>1005</td>\n",
              "      <td>0</td>\n",
              "      <td>85f751fd</td>\n",
              "      <td>c4e18dd6</td>\n",
              "      <td>50e219e0</td>\n",
              "      <td>92f5800b</td>\n",
              "      <td>ae637522</td>\n",
              "      <td>...</td>\n",
              "      <td>1</td>\n",
              "      <td>3</td>\n",
              "      <td>21191</td>\n",
              "      <td>320</td>\n",
              "      <td>50</td>\n",
              "      <td>2424</td>\n",
              "      <td>1</td>\n",
              "      <td>161</td>\n",
              "      <td>100192</td>\n",
              "      <td>71</td>\n",
              "    </tr>\n",
              "    <tr>\n",
              "      <th>60004</th>\n",
              "      <td>1585201452533901602</td>\n",
              "      <td>1</td>\n",
              "      <td>14102610</td>\n",
              "      <td>1005</td>\n",
              "      <td>0</td>\n",
              "      <td>85f751fd</td>\n",
              "      <td>c4e18dd6</td>\n",
              "      <td>50e219e0</td>\n",
              "      <td>9c13b419</td>\n",
              "      <td>2347f47a</td>\n",
              "      <td>...</td>\n",
              "      <td>1</td>\n",
              "      <td>0</td>\n",
              "      <td>20632</td>\n",
              "      <td>320</td>\n",
              "      <td>50</td>\n",
              "      <td>2374</td>\n",
              "      <td>3</td>\n",
              "      <td>39</td>\n",
              "      <td>-1</td>\n",
              "      <td>23</td>\n",
              "    </tr>\n",
              "  </tbody>\n",
              "</table>\n",
              "<p>5 rows × 24 columns</p>\n",
              "</div>\n",
              "      <button class=\"colab-df-convert\" onclick=\"convertToInteractive('df-30a7da1d-a0b6-4da9-9d53-b6c31b4c9df8')\"\n",
              "              title=\"Convert this dataframe to an interactive table.\"\n",
              "              style=\"display:none;\">\n",
              "        \n",
              "  <svg xmlns=\"http://www.w3.org/2000/svg\" height=\"24px\"viewBox=\"0 0 24 24\"\n",
              "       width=\"24px\">\n",
              "    <path d=\"M0 0h24v24H0V0z\" fill=\"none\"/>\n",
              "    <path d=\"M18.56 5.44l.94 2.06.94-2.06 2.06-.94-2.06-.94-.94-2.06-.94 2.06-2.06.94zm-11 1L8.5 8.5l.94-2.06 2.06-.94-2.06-.94L8.5 2.5l-.94 2.06-2.06.94zm10 10l.94 2.06.94-2.06 2.06-.94-2.06-.94-.94-2.06-.94 2.06-2.06.94z\"/><path d=\"M17.41 7.96l-1.37-1.37c-.4-.4-.92-.59-1.43-.59-.52 0-1.04.2-1.43.59L10.3 9.45l-7.72 7.72c-.78.78-.78 2.05 0 2.83L4 21.41c.39.39.9.59 1.41.59.51 0 1.02-.2 1.41-.59l7.78-7.78 2.81-2.81c.8-.78.8-2.07 0-2.86zM5.41 20L4 18.59l7.72-7.72 1.47 1.35L5.41 20z\"/>\n",
              "  </svg>\n",
              "      </button>\n",
              "      \n",
              "  <style>\n",
              "    .colab-df-container {\n",
              "      display:flex;\n",
              "      flex-wrap:wrap;\n",
              "      gap: 12px;\n",
              "    }\n",
              "\n",
              "    .colab-df-convert {\n",
              "      background-color: #E8F0FE;\n",
              "      border: none;\n",
              "      border-radius: 50%;\n",
              "      cursor: pointer;\n",
              "      display: none;\n",
              "      fill: #1967D2;\n",
              "      height: 32px;\n",
              "      padding: 0 0 0 0;\n",
              "      width: 32px;\n",
              "    }\n",
              "\n",
              "    .colab-df-convert:hover {\n",
              "      background-color: #E2EBFA;\n",
              "      box-shadow: 0px 1px 2px rgba(60, 64, 67, 0.3), 0px 1px 3px 1px rgba(60, 64, 67, 0.15);\n",
              "      fill: #174EA6;\n",
              "    }\n",
              "\n",
              "    [theme=dark] .colab-df-convert {\n",
              "      background-color: #3B4455;\n",
              "      fill: #D2E3FC;\n",
              "    }\n",
              "\n",
              "    [theme=dark] .colab-df-convert:hover {\n",
              "      background-color: #434B5C;\n",
              "      box-shadow: 0px 1px 3px 1px rgba(0, 0, 0, 0.15);\n",
              "      filter: drop-shadow(0px 1px 2px rgba(0, 0, 0, 0.3));\n",
              "      fill: #FFFFFF;\n",
              "    }\n",
              "  </style>\n",
              "\n",
              "      <script>\n",
              "        const buttonEl =\n",
              "          document.querySelector('#df-30a7da1d-a0b6-4da9-9d53-b6c31b4c9df8 button.colab-df-convert');\n",
              "        buttonEl.style.display =\n",
              "          google.colab.kernel.accessAllowed ? 'block' : 'none';\n",
              "\n",
              "        async function convertToInteractive(key) {\n",
              "          const element = document.querySelector('#df-30a7da1d-a0b6-4da9-9d53-b6c31b4c9df8');\n",
              "          const dataTable =\n",
              "            await google.colab.kernel.invokeFunction('convertToInteractive',\n",
              "                                                     [key], {});\n",
              "          if (!dataTable) return;\n",
              "\n",
              "          const docLinkHtml = 'Like what you see? Visit the ' +\n",
              "            '<a target=\"_blank\" href=https://colab.research.google.com/notebooks/data_table.ipynb>data table notebook</a>'\n",
              "            + ' to learn more about interactive tables.';\n",
              "          element.innerHTML = '';\n",
              "          dataTable['output_type'] = 'display_data';\n",
              "          await google.colab.output.renderOutput(dataTable, element);\n",
              "          const docLink = document.createElement('div');\n",
              "          docLink.innerHTML = docLinkHtml;\n",
              "          element.appendChild(docLink);\n",
              "        }\n",
              "      </script>\n",
              "    </div>\n",
              "  </div>\n",
              "  "
            ],
            "text/plain": [
              "                         id  click      hour    C1  banner_pos   site_id  \\\n",
              "60000  15769367607334356398      0  14102610  1005           0  1fbe01fe   \n",
              "60001  15772716576874331805      0  14102610  1005           1  92c7cbe7   \n",
              "60002  15780481116374295046      0  14102610  1002           0  ffcb6b9a   \n",
              "60003  15782393117659104918      0  14102610  1005           0  85f751fd   \n",
              "60004   1585201452533901602      1  14102610  1005           0  85f751fd   \n",
              "\n",
              "      site_domain site_category    app_id app_domain  ... device_type  \\\n",
              "60000    f3845767      28905ebd  ecad2386   7801e8d9  ...           1   \n",
              "60001    6e882918      75fa27f6  ecad2386   7801e8d9  ...           1   \n",
              "60002    fd0f18e8      50e219e0  ecad2386   7801e8d9  ...           0   \n",
              "60003    c4e18dd6      50e219e0  92f5800b   ae637522  ...           1   \n",
              "60004    c4e18dd6      50e219e0  9c13b419   2347f47a  ...           1   \n",
              "\n",
              "      device_conn_type    C14  C15  C16   C17  C18   C19     C20  C21  \n",
              "60000                0  20108  320   50  2299    2  1327  100084   52  \n",
              "60001                0  21683  320   50  2496    3   167      -1   23  \n",
              "60002                0   5299  320   50   479    3    39  100077   23  \n",
              "60003                3  21191  320   50  2424    1   161  100192   71  \n",
              "60004                0  20632  320   50  2374    3    39      -1   23  \n",
              "\n",
              "[5 rows x 24 columns]"
            ]
          },
          "execution_count": 19,
          "metadata": {},
          "output_type": "execute_result"
        }
      ],
      "source": [
        "# confirm val\n",
        "val_df.head()"
      ]
    },
    {
      "cell_type": "code",
      "execution_count": null,
      "metadata": {
        "colab": {
          "base_uri": "https://localhost:8080/",
          "height": 299
        },
        "id": "dAce83aZ8A5F",
        "outputId": "81fc1a2a-04c4-4944-f1cc-ed6963736962"
      },
      "outputs": [
        {
          "data": {
            "text/html": [
              "\n",
              "  <div id=\"df-6e5e7771-906e-4f85-a72a-d3d36ef51512\">\n",
              "    <div class=\"colab-df-container\">\n",
              "      <div>\n",
              "<style scoped>\n",
              "    .dataframe tbody tr th:only-of-type {\n",
              "        vertical-align: middle;\n",
              "    }\n",
              "\n",
              "    .dataframe tbody tr th {\n",
              "        vertical-align: top;\n",
              "    }\n",
              "\n",
              "    .dataframe thead th {\n",
              "        text-align: right;\n",
              "    }\n",
              "</style>\n",
              "<table border=\"1\" class=\"dataframe\">\n",
              "  <thead>\n",
              "    <tr style=\"text-align: right;\">\n",
              "      <th></th>\n",
              "      <th>id</th>\n",
              "      <th>click</th>\n",
              "      <th>hour</th>\n",
              "      <th>C1</th>\n",
              "      <th>banner_pos</th>\n",
              "      <th>site_id</th>\n",
              "      <th>site_domain</th>\n",
              "      <th>site_category</th>\n",
              "      <th>app_id</th>\n",
              "      <th>app_domain</th>\n",
              "      <th>...</th>\n",
              "      <th>device_type</th>\n",
              "      <th>device_conn_type</th>\n",
              "      <th>C14</th>\n",
              "      <th>C15</th>\n",
              "      <th>C16</th>\n",
              "      <th>C17</th>\n",
              "      <th>C18</th>\n",
              "      <th>C19</th>\n",
              "      <th>C20</th>\n",
              "      <th>C21</th>\n",
              "    </tr>\n",
              "  </thead>\n",
              "  <tbody>\n",
              "    <tr>\n",
              "      <th>80000</th>\n",
              "      <td>9011359456728644748</td>\n",
              "      <td>0</td>\n",
              "      <td>14102809</td>\n",
              "      <td>1005</td>\n",
              "      <td>1</td>\n",
              "      <td>f0ee33c5</td>\n",
              "      <td>9cf7de2f</td>\n",
              "      <td>f028772b</td>\n",
              "      <td>ecad2386</td>\n",
              "      <td>7801e8d9</td>\n",
              "      <td>...</td>\n",
              "      <td>1</td>\n",
              "      <td>0</td>\n",
              "      <td>22680</td>\n",
              "      <td>320</td>\n",
              "      <td>50</td>\n",
              "      <td>2528</td>\n",
              "      <td>0</td>\n",
              "      <td>39</td>\n",
              "      <td>100075</td>\n",
              "      <td>221</td>\n",
              "    </tr>\n",
              "    <tr>\n",
              "      <th>80001</th>\n",
              "      <td>9014069646008620437</td>\n",
              "      <td>0</td>\n",
              "      <td>14102809</td>\n",
              "      <td>1005</td>\n",
              "      <td>1</td>\n",
              "      <td>57ef2c87</td>\n",
              "      <td>bd6d812f</td>\n",
              "      <td>f028772b</td>\n",
              "      <td>ecad2386</td>\n",
              "      <td>7801e8d9</td>\n",
              "      <td>...</td>\n",
              "      <td>1</td>\n",
              "      <td>0</td>\n",
              "      <td>22683</td>\n",
              "      <td>320</td>\n",
              "      <td>50</td>\n",
              "      <td>2528</td>\n",
              "      <td>0</td>\n",
              "      <td>39</td>\n",
              "      <td>-1</td>\n",
              "      <td>221</td>\n",
              "    </tr>\n",
              "    <tr>\n",
              "      <th>80002</th>\n",
              "      <td>9018341982126077768</td>\n",
              "      <td>0</td>\n",
              "      <td>14102809</td>\n",
              "      <td>1005</td>\n",
              "      <td>0</td>\n",
              "      <td>85f751fd</td>\n",
              "      <td>c4e18dd6</td>\n",
              "      <td>50e219e0</td>\n",
              "      <td>54c5d545</td>\n",
              "      <td>2347f47a</td>\n",
              "      <td>...</td>\n",
              "      <td>1</td>\n",
              "      <td>2</td>\n",
              "      <td>23144</td>\n",
              "      <td>320</td>\n",
              "      <td>50</td>\n",
              "      <td>2665</td>\n",
              "      <td>0</td>\n",
              "      <td>34</td>\n",
              "      <td>-1</td>\n",
              "      <td>221</td>\n",
              "    </tr>\n",
              "    <tr>\n",
              "      <th>80003</th>\n",
              "      <td>907765228224517089</td>\n",
              "      <td>0</td>\n",
              "      <td>14102809</td>\n",
              "      <td>1005</td>\n",
              "      <td>0</td>\n",
              "      <td>85f751fd</td>\n",
              "      <td>c4e18dd6</td>\n",
              "      <td>50e219e0</td>\n",
              "      <td>e9739828</td>\n",
              "      <td>df32afa9</td>\n",
              "      <td>...</td>\n",
              "      <td>1</td>\n",
              "      <td>0</td>\n",
              "      <td>23143</td>\n",
              "      <td>320</td>\n",
              "      <td>50</td>\n",
              "      <td>2665</td>\n",
              "      <td>0</td>\n",
              "      <td>34</td>\n",
              "      <td>100135</td>\n",
              "      <td>221</td>\n",
              "    </tr>\n",
              "    <tr>\n",
              "      <th>80004</th>\n",
              "      <td>9105010637968482882</td>\n",
              "      <td>0</td>\n",
              "      <td>14102809</td>\n",
              "      <td>1005</td>\n",
              "      <td>0</td>\n",
              "      <td>85f751fd</td>\n",
              "      <td>c4e18dd6</td>\n",
              "      <td>50e219e0</td>\n",
              "      <td>d36838b1</td>\n",
              "      <td>0e8616ad</td>\n",
              "      <td>...</td>\n",
              "      <td>1</td>\n",
              "      <td>2</td>\n",
              "      <td>23144</td>\n",
              "      <td>320</td>\n",
              "      <td>50</td>\n",
              "      <td>2665</td>\n",
              "      <td>0</td>\n",
              "      <td>34</td>\n",
              "      <td>100111</td>\n",
              "      <td>221</td>\n",
              "    </tr>\n",
              "  </tbody>\n",
              "</table>\n",
              "<p>5 rows × 24 columns</p>\n",
              "</div>\n",
              "      <button class=\"colab-df-convert\" onclick=\"convertToInteractive('df-6e5e7771-906e-4f85-a72a-d3d36ef51512')\"\n",
              "              title=\"Convert this dataframe to an interactive table.\"\n",
              "              style=\"display:none;\">\n",
              "        \n",
              "  <svg xmlns=\"http://www.w3.org/2000/svg\" height=\"24px\"viewBox=\"0 0 24 24\"\n",
              "       width=\"24px\">\n",
              "    <path d=\"M0 0h24v24H0V0z\" fill=\"none\"/>\n",
              "    <path d=\"M18.56 5.44l.94 2.06.94-2.06 2.06-.94-2.06-.94-.94-2.06-.94 2.06-2.06.94zm-11 1L8.5 8.5l.94-2.06 2.06-.94-2.06-.94L8.5 2.5l-.94 2.06-2.06.94zm10 10l.94 2.06.94-2.06 2.06-.94-2.06-.94-.94-2.06-.94 2.06-2.06.94z\"/><path d=\"M17.41 7.96l-1.37-1.37c-.4-.4-.92-.59-1.43-.59-.52 0-1.04.2-1.43.59L10.3 9.45l-7.72 7.72c-.78.78-.78 2.05 0 2.83L4 21.41c.39.39.9.59 1.41.59.51 0 1.02-.2 1.41-.59l7.78-7.78 2.81-2.81c.8-.78.8-2.07 0-2.86zM5.41 20L4 18.59l7.72-7.72 1.47 1.35L5.41 20z\"/>\n",
              "  </svg>\n",
              "      </button>\n",
              "      \n",
              "  <style>\n",
              "    .colab-df-container {\n",
              "      display:flex;\n",
              "      flex-wrap:wrap;\n",
              "      gap: 12px;\n",
              "    }\n",
              "\n",
              "    .colab-df-convert {\n",
              "      background-color: #E8F0FE;\n",
              "      border: none;\n",
              "      border-radius: 50%;\n",
              "      cursor: pointer;\n",
              "      display: none;\n",
              "      fill: #1967D2;\n",
              "      height: 32px;\n",
              "      padding: 0 0 0 0;\n",
              "      width: 32px;\n",
              "    }\n",
              "\n",
              "    .colab-df-convert:hover {\n",
              "      background-color: #E2EBFA;\n",
              "      box-shadow: 0px 1px 2px rgba(60, 64, 67, 0.3), 0px 1px 3px 1px rgba(60, 64, 67, 0.15);\n",
              "      fill: #174EA6;\n",
              "    }\n",
              "\n",
              "    [theme=dark] .colab-df-convert {\n",
              "      background-color: #3B4455;\n",
              "      fill: #D2E3FC;\n",
              "    }\n",
              "\n",
              "    [theme=dark] .colab-df-convert:hover {\n",
              "      background-color: #434B5C;\n",
              "      box-shadow: 0px 1px 3px 1px rgba(0, 0, 0, 0.15);\n",
              "      filter: drop-shadow(0px 1px 2px rgba(0, 0, 0, 0.3));\n",
              "      fill: #FFFFFF;\n",
              "    }\n",
              "  </style>\n",
              "\n",
              "      <script>\n",
              "        const buttonEl =\n",
              "          document.querySelector('#df-6e5e7771-906e-4f85-a72a-d3d36ef51512 button.colab-df-convert');\n",
              "        buttonEl.style.display =\n",
              "          google.colab.kernel.accessAllowed ? 'block' : 'none';\n",
              "\n",
              "        async function convertToInteractive(key) {\n",
              "          const element = document.querySelector('#df-6e5e7771-906e-4f85-a72a-d3d36ef51512');\n",
              "          const dataTable =\n",
              "            await google.colab.kernel.invokeFunction('convertToInteractive',\n",
              "                                                     [key], {});\n",
              "          if (!dataTable) return;\n",
              "\n",
              "          const docLinkHtml = 'Like what you see? Visit the ' +\n",
              "            '<a target=\"_blank\" href=https://colab.research.google.com/notebooks/data_table.ipynb>data table notebook</a>'\n",
              "            + ' to learn more about interactive tables.';\n",
              "          element.innerHTML = '';\n",
              "          dataTable['output_type'] = 'display_data';\n",
              "          await google.colab.output.renderOutput(dataTable, element);\n",
              "          const docLink = document.createElement('div');\n",
              "          docLink.innerHTML = docLinkHtml;\n",
              "          element.appendChild(docLink);\n",
              "        }\n",
              "      </script>\n",
              "    </div>\n",
              "  </div>\n",
              "  "
            ],
            "text/plain": [
              "                        id  click      hour    C1  banner_pos   site_id  \\\n",
              "80000  9011359456728644748      0  14102809  1005           1  f0ee33c5   \n",
              "80001  9014069646008620437      0  14102809  1005           1  57ef2c87   \n",
              "80002  9018341982126077768      0  14102809  1005           0  85f751fd   \n",
              "80003   907765228224517089      0  14102809  1005           0  85f751fd   \n",
              "80004  9105010637968482882      0  14102809  1005           0  85f751fd   \n",
              "\n",
              "      site_domain site_category    app_id app_domain  ... device_type  \\\n",
              "80000    9cf7de2f      f028772b  ecad2386   7801e8d9  ...           1   \n",
              "80001    bd6d812f      f028772b  ecad2386   7801e8d9  ...           1   \n",
              "80002    c4e18dd6      50e219e0  54c5d545   2347f47a  ...           1   \n",
              "80003    c4e18dd6      50e219e0  e9739828   df32afa9  ...           1   \n",
              "80004    c4e18dd6      50e219e0  d36838b1   0e8616ad  ...           1   \n",
              "\n",
              "      device_conn_type    C14  C15  C16   C17  C18  C19     C20  C21  \n",
              "80000                0  22680  320   50  2528    0   39  100075  221  \n",
              "80001                0  22683  320   50  2528    0   39      -1  221  \n",
              "80002                2  23144  320   50  2665    0   34      -1  221  \n",
              "80003                0  23143  320   50  2665    0   34  100135  221  \n",
              "80004                2  23144  320   50  2665    0   34  100111  221  \n",
              "\n",
              "[5 rows x 24 columns]"
            ]
          },
          "execution_count": 20,
          "metadata": {},
          "output_type": "execute_result"
        }
      ],
      "source": [
        "# confirm test\n",
        "test_df.head()"
      ]
    },
    {
      "cell_type": "markdown",
      "metadata": {
        "id": "u8X0Eaq2FJ4V"
      },
      "source": [
        "###Xgboost"
      ]
    },
    {
      "cell_type": "code",
      "execution_count": null,
      "metadata": {
        "colab": {
          "base_uri": "https://localhost:8080/",
          "height": 374
        },
        "id": "0HqGF5E5GMHB",
        "outputId": "85393e1d-2eff-49f8-93bc-1c4ed51f3641"
      },
      "outputs": [
        {
          "ename": "ValueError",
          "evalue": "ignored",
          "output_type": "error",
          "traceback": [
            "\u001b[0;31m---------------------------------------------------------------------------\u001b[0m",
            "\u001b[0;31mValueError\u001b[0m                                Traceback (most recent call last)",
            "\u001b[0;32m<ipython-input-25-f7995447685c>\u001b[0m in \u001b[0;36m<module>\u001b[0;34m\u001b[0m\n\u001b[0;32m----> 1\u001b[0;31m \u001b[0mdtrain\u001b[0m \u001b[0;34m=\u001b[0m \u001b[0mxgb\u001b[0m\u001b[0;34m.\u001b[0m\u001b[0mDMatrix\u001b[0m\u001b[0;34m(\u001b[0m\u001b[0mtrain_df\u001b[0m\u001b[0;34m)\u001b[0m\u001b[0;34m\u001b[0m\u001b[0;34m\u001b[0m\u001b[0m\n\u001b[0m\u001b[1;32m      2\u001b[0m \u001b[0mdval\u001b[0m \u001b[0;34m=\u001b[0m \u001b[0mxgb\u001b[0m\u001b[0;34m.\u001b[0m\u001b[0mDMatrix\u001b[0m\u001b[0;34m(\u001b[0m\u001b[0mval_df\u001b[0m\u001b[0;34m)\u001b[0m\u001b[0;34m\u001b[0m\u001b[0;34m\u001b[0m\u001b[0m\n",
            "\u001b[0;32m/usr/local/lib/python3.8/dist-packages/xgboost/core.py\u001b[0m in \u001b[0;36m__init__\u001b[0;34m(self, data, label, missing, weight, silent, feature_names, feature_types, nthread)\u001b[0m\n\u001b[1;32m    376\u001b[0m             \u001b[0;32mreturn\u001b[0m\u001b[0;34m\u001b[0m\u001b[0;34m\u001b[0m\u001b[0m\n\u001b[1;32m    377\u001b[0m \u001b[0;34m\u001b[0m\u001b[0m\n\u001b[0;32m--> 378\u001b[0;31m         data, feature_names, feature_types = _maybe_pandas_data(data,\n\u001b[0m\u001b[1;32m    379\u001b[0m                                                                 \u001b[0mfeature_names\u001b[0m\u001b[0;34m,\u001b[0m\u001b[0;34m\u001b[0m\u001b[0;34m\u001b[0m\u001b[0m\n\u001b[1;32m    380\u001b[0m                                                                 feature_types)\n",
            "\u001b[0;32m/usr/local/lib/python3.8/dist-packages/xgboost/core.py\u001b[0m in \u001b[0;36m_maybe_pandas_data\u001b[0;34m(data, feature_names, feature_types)\u001b[0m\n\u001b[1;32m    237\u001b[0m         msg = \"\"\"DataFrame.dtypes for data must be int, float or bool.\n\u001b[1;32m    238\u001b[0m                 Did not expect the data types in fields \"\"\"\n\u001b[0;32m--> 239\u001b[0;31m         \u001b[0;32mraise\u001b[0m \u001b[0mValueError\u001b[0m\u001b[0;34m(\u001b[0m\u001b[0mmsg\u001b[0m \u001b[0;34m+\u001b[0m \u001b[0;34m', '\u001b[0m\u001b[0;34m.\u001b[0m\u001b[0mjoin\u001b[0m\u001b[0;34m(\u001b[0m\u001b[0mbad_fields\u001b[0m\u001b[0;34m)\u001b[0m\u001b[0;34m)\u001b[0m\u001b[0;34m\u001b[0m\u001b[0;34m\u001b[0m\u001b[0m\n\u001b[0m\u001b[1;32m    240\u001b[0m \u001b[0;34m\u001b[0m\u001b[0m\n\u001b[1;32m    241\u001b[0m     \u001b[0;32mif\u001b[0m \u001b[0mfeature_names\u001b[0m \u001b[0;32mis\u001b[0m \u001b[0;32mNone\u001b[0m\u001b[0;34m:\u001b[0m\u001b[0;34m\u001b[0m\u001b[0;34m\u001b[0m\u001b[0m\n",
            "\u001b[0;31mValueError\u001b[0m: DataFrame.dtypes for data must be int, float or bool.\n                Did not expect the data types in fields site_id, site_domain, site_category, app_id, app_domain, app_category, device_id, device_ip, device_model"
          ]
        }
      ],
      "source": [
        "dtrain = xgb.DMatrix(train_df)\n",
        "dval = xgb.DMatrix(val_df)"
      ]
    },
    {
      "cell_type": "code",
      "execution_count": null,
      "metadata": {
        "id": "azV_Z9bQ-sYs"
      },
      "outputs": [],
      "source": [
        "#Set parameter\n",
        "param = {'max_depth': 2, 'eta': 1, 'objective': 'binary:logistic'}\n",
        "param['nthread'] = 4\n",
        "param['eval_metric'] = 'auc'\n",
        "#Set training and validation data\n",
        "evallist = [(train_df, 'train'), (val_df, 'eval')]\n",
        "num_round = 10"
      ]
    },
    {
      "cell_type": "code",
      "execution_count": null,
      "metadata": {
        "colab": {
          "base_uri": "https://localhost:8080/",
          "height": 338
        },
        "id": "KhTAxS66Fxep",
        "outputId": "82be7c64-bf44-4c58-9237-e544c5d7ce65"
      },
      "outputs": [
        {
          "ename": "TypeError",
          "evalue": "ignored",
          "output_type": "error",
          "traceback": [
            "\u001b[0;31m---------------------------------------------------------------------------\u001b[0m",
            "\u001b[0;31mTypeError\u001b[0m                                 Traceback (most recent call last)",
            "\u001b[0;32m<ipython-input-24-8ebd1f5b88e7>\u001b[0m in \u001b[0;36m<module>\u001b[0;34m\u001b[0m\n\u001b[1;32m      1\u001b[0m \u001b[0;31m#Train Model\u001b[0m\u001b[0;34m\u001b[0m\u001b[0;34m\u001b[0m\u001b[0;34m\u001b[0m\u001b[0m\n\u001b[0;32m----> 2\u001b[0;31m \u001b[0mbst\u001b[0m \u001b[0;34m=\u001b[0m \u001b[0mxgb\u001b[0m\u001b[0;34m.\u001b[0m\u001b[0mtrain\u001b[0m\u001b[0;34m(\u001b[0m\u001b[0mparam\u001b[0m\u001b[0;34m,\u001b[0m \u001b[0mtrain_df\u001b[0m\u001b[0;34m,\u001b[0m \u001b[0mnum_round\u001b[0m\u001b[0;34m,\u001b[0m \u001b[0mevallist\u001b[0m\u001b[0;34m)\u001b[0m\u001b[0;34m\u001b[0m\u001b[0;34m\u001b[0m\u001b[0m\n\u001b[0m",
            "\u001b[0;32m/usr/local/lib/python3.8/dist-packages/xgboost/training.py\u001b[0m in \u001b[0;36mtrain\u001b[0;34m(params, dtrain, num_boost_round, evals, obj, feval, maximize, early_stopping_rounds, evals_result, verbose_eval, xgb_model, callbacks, learning_rates)\u001b[0m\n\u001b[1;32m    210\u001b[0m         \u001b[0mcallbacks\u001b[0m\u001b[0;34m.\u001b[0m\u001b[0mappend\u001b[0m\u001b[0;34m(\u001b[0m\u001b[0mcallback\u001b[0m\u001b[0;34m.\u001b[0m\u001b[0mreset_learning_rate\u001b[0m\u001b[0;34m(\u001b[0m\u001b[0mlearning_rates\u001b[0m\u001b[0;34m)\u001b[0m\u001b[0;34m)\u001b[0m\u001b[0;34m\u001b[0m\u001b[0;34m\u001b[0m\u001b[0m\n\u001b[1;32m    211\u001b[0m \u001b[0;34m\u001b[0m\u001b[0m\n\u001b[0;32m--> 212\u001b[0;31m     return _train_internal(params, dtrain,\n\u001b[0m\u001b[1;32m    213\u001b[0m                            \u001b[0mnum_boost_round\u001b[0m\u001b[0;34m=\u001b[0m\u001b[0mnum_boost_round\u001b[0m\u001b[0;34m,\u001b[0m\u001b[0;34m\u001b[0m\u001b[0;34m\u001b[0m\u001b[0m\n\u001b[1;32m    214\u001b[0m                            \u001b[0mevals\u001b[0m\u001b[0;34m=\u001b[0m\u001b[0mevals\u001b[0m\u001b[0;34m,\u001b[0m\u001b[0;34m\u001b[0m\u001b[0;34m\u001b[0m\u001b[0m\n",
            "\u001b[0;32m/usr/local/lib/python3.8/dist-packages/xgboost/training.py\u001b[0m in \u001b[0;36m_train_internal\u001b[0;34m(params, dtrain, num_boost_round, evals, obj, feval, xgb_model, callbacks)\u001b[0m\n\u001b[1;32m     30\u001b[0m             \u001b[0mparams\u001b[0m \u001b[0;34m+=\u001b[0m \u001b[0;34m[\u001b[0m\u001b[0;34m(\u001b[0m\u001b[0;34m'eval_metric'\u001b[0m\u001b[0;34m,\u001b[0m \u001b[0meval_metric\u001b[0m\u001b[0;34m)\u001b[0m\u001b[0;34m]\u001b[0m\u001b[0;34m\u001b[0m\u001b[0;34m\u001b[0m\u001b[0m\n\u001b[1;32m     31\u001b[0m \u001b[0;34m\u001b[0m\u001b[0m\n\u001b[0;32m---> 32\u001b[0;31m     \u001b[0mbst\u001b[0m \u001b[0;34m=\u001b[0m \u001b[0mBooster\u001b[0m\u001b[0;34m(\u001b[0m\u001b[0mparams\u001b[0m\u001b[0;34m,\u001b[0m \u001b[0;34m[\u001b[0m\u001b[0mdtrain\u001b[0m\u001b[0;34m]\u001b[0m \u001b[0;34m+\u001b[0m \u001b[0;34m[\u001b[0m\u001b[0md\u001b[0m\u001b[0;34m[\u001b[0m\u001b[0;36m0\u001b[0m\u001b[0;34m]\u001b[0m \u001b[0;32mfor\u001b[0m \u001b[0md\u001b[0m \u001b[0;32min\u001b[0m \u001b[0mevals\u001b[0m\u001b[0;34m]\u001b[0m\u001b[0;34m)\u001b[0m\u001b[0;34m\u001b[0m\u001b[0;34m\u001b[0m\u001b[0m\n\u001b[0m\u001b[1;32m     33\u001b[0m     \u001b[0mnboost\u001b[0m \u001b[0;34m=\u001b[0m \u001b[0;36m0\u001b[0m\u001b[0;34m\u001b[0m\u001b[0;34m\u001b[0m\u001b[0m\n\u001b[1;32m     34\u001b[0m     \u001b[0mnum_parallel_tree\u001b[0m \u001b[0;34m=\u001b[0m \u001b[0;36m1\u001b[0m\u001b[0;34m\u001b[0m\u001b[0;34m\u001b[0m\u001b[0m\n",
            "\u001b[0;32m/usr/local/lib/python3.8/dist-packages/xgboost/core.py\u001b[0m in \u001b[0;36m__init__\u001b[0;34m(self, params, cache, model_file)\u001b[0m\n\u001b[1;32m    938\u001b[0m         \u001b[0;32mfor\u001b[0m \u001b[0md\u001b[0m \u001b[0;32min\u001b[0m \u001b[0mcache\u001b[0m\u001b[0;34m:\u001b[0m\u001b[0;34m\u001b[0m\u001b[0;34m\u001b[0m\u001b[0m\n\u001b[1;32m    939\u001b[0m             \u001b[0;32mif\u001b[0m \u001b[0;32mnot\u001b[0m \u001b[0misinstance\u001b[0m\u001b[0;34m(\u001b[0m\u001b[0md\u001b[0m\u001b[0;34m,\u001b[0m \u001b[0mDMatrix\u001b[0m\u001b[0;34m)\u001b[0m\u001b[0;34m:\u001b[0m\u001b[0;34m\u001b[0m\u001b[0;34m\u001b[0m\u001b[0m\n\u001b[0;32m--> 940\u001b[0;31m                 \u001b[0;32mraise\u001b[0m \u001b[0mTypeError\u001b[0m\u001b[0;34m(\u001b[0m\u001b[0;34m'invalid cache item: {}'\u001b[0m\u001b[0;34m.\u001b[0m\u001b[0mformat\u001b[0m\u001b[0;34m(\u001b[0m\u001b[0mtype\u001b[0m\u001b[0;34m(\u001b[0m\u001b[0md\u001b[0m\u001b[0;34m)\u001b[0m\u001b[0;34m.\u001b[0m\u001b[0m__name__\u001b[0m\u001b[0;34m)\u001b[0m\u001b[0;34m)\u001b[0m\u001b[0;34m\u001b[0m\u001b[0;34m\u001b[0m\u001b[0m\n\u001b[0m\u001b[1;32m    941\u001b[0m             \u001b[0mself\u001b[0m\u001b[0;34m.\u001b[0m\u001b[0m_validate_features\u001b[0m\u001b[0;34m(\u001b[0m\u001b[0md\u001b[0m\u001b[0;34m)\u001b[0m\u001b[0;34m\u001b[0m\u001b[0;34m\u001b[0m\u001b[0m\n\u001b[1;32m    942\u001b[0m \u001b[0;34m\u001b[0m\u001b[0m\n",
            "\u001b[0;31mTypeError\u001b[0m: invalid cache item: DataFrame"
          ]
        }
      ],
      "source": [
        "#Train Model\n",
        "bst = xgb.train(param, train_df, num_round, evallist)\n"
      ]
    },
    {
      "cell_type": "markdown",
      "metadata": {
        "id": "-Lv2M3zzFSMG"
      },
      "source": [
        "###LightGBM"
      ]
    },
    {
      "cell_type": "code",
      "execution_count": null,
      "metadata": {
        "id": "8C9QBDd2FZX_"
      },
      "outputs": [],
      "source": []
    },
    {
      "cell_type": "markdown",
      "metadata": {
        "id": "V55uWZQDFSmV"
      },
      "source": [
        "###CatBoost"
      ]
    },
    {
      "cell_type": "code",
      "execution_count": null,
      "metadata": {
        "id": "iPECLTA1FaGO"
      },
      "outputs": [],
      "source": [
        "model = CatBoostRegressor(iterations=2,\n",
        "                          learning_rate=1,\n",
        "                          depth=2)\n",
        "# Fit model\n",
        "model.fit(train_df, v)\n",
        "# Get predictions\n",
        "preds = model.predict(eval_data)"
      ]
    }
  ],
  "metadata": {
    "colab": {
      "provenance": []
    },
    "kernelspec": {
      "display_name": "Python 3",
      "name": "python3"
    },
    "language_info": {
      "name": "python"
    }
  },
  "nbformat": 4,
  "nbformat_minor": 0
}